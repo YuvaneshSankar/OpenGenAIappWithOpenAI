{
 "cells": [
  {
   "cell_type": "code",
   "execution_count": 21,
   "metadata": {},
   "outputs": [
    {
     "name": "stderr",
     "output_type": "stream",
     "text": [
      "Created a chunk of size 414, which is longer than the specified 400\n",
      "Created a chunk of size 409, which is longer than the specified 400\n",
      "Created a chunk of size 433, which is longer than the specified 400\n"
     ]
    },
    {
     "name": "stdout",
     "output_type": "stream",
     "text": [
      "page_content='Good evening everyone, and thank you for being here today. Your presence, your attention, and your energy mean more than you know. It shows that you're someone willing to grow, to reflect, and to be better than you were yesterday. Thatâ€™s where all greatness beginsâ€”not with talent or luck, but with the decision to show up, to be present, and to commit to the journey ahead. So, thank you for showing up today.' metadata={'source': 'speech.txt'}\n",
      "page_content='We often underestimate the power of small consistent actions. We search for shortcuts, waiting for a magical moment to change our lives. But real transformation doesn't come from one-time effort or overnight successâ€”itâ€™s the quiet commitment to doing the right thing every single day, even when itâ€™s hard, even when no one is watching. Small steps, repeated with discipline, shape extraordinary futures.' metadata={'source': 'speech.txt'}\n"
     ]
    }
   ],
   "source": [
    "from langchain_community.document_loaders import TextLoader\n",
    "from langchain.text_splitter import CharacterTextSplitter\n",
    "\n",
    "loader=TextLoader(\"speech.txt\")\n",
    "docs=loader.load()\n",
    "\n",
    "text_splitter=CharacterTextSplitter(separator= \"\\n\",chunk_size=400, chunk_overlap=20)\n",
    "final_docs=text_splitter.split_documents(docs)\n",
    "print(final_docs[0])\n",
    "print(final_docs[1])\n"
   ]
  },
  {
   "cell_type": "code",
   "execution_count": 19,
   "metadata": {},
   "outputs": [
    {
     "name": "stdout",
     "output_type": "stream",
     "text": [
      "page_content='Good evening everyone, and thank you for being here today. Your presence, your attention, and your energy mean more than you know. It shows that you're someone willing to grow, to reflect, and to be better than you were yesterday. Thatâ€™s where all greatness beginsâ€”not with talent or luck, but with the decision to show up, to be present, and to commit to the journey ahead. So, thank you for showing up today.'\n",
      "page_content='We often underestimate the power of small consistent actions. We search for shortcuts, waiting for a magical moment to change our lives. But real transformation doesn't come from one-time effort or overnight successâ€”itâ€™s the quiet commitment to doing the right thing every single day, even when itâ€™s hard, even when no one is watching. Small steps, repeated with discipline, shape extraordinary futures.'\n"
     ]
    }
   ],
   "source": [
    "speech=\"\"\n",
    "\n",
    "with open(\"speech.txt\") as f:\n",
    "    speech=f.read()\n",
    "\n",
    "text_splitter1=CharacterTextSplitter(separator=\"\\n\",chunk_size=500, chunk_overlap=20)\n",
    "final1_docs=text_splitter1.create_documents([speech])\n",
    "print(final1_docs[0])\n",
    "print(final1_docs[1])"
   ]
  },
  {
   "cell_type": "code",
   "execution_count": null,
   "metadata": {},
   "outputs": [],
   "source": []
  }
 ],
 "metadata": {
  "kernelspec": {
   "display_name": "myenv",
   "language": "python",
   "name": "python3"
  },
  "language_info": {
   "codemirror_mode": {
    "name": "ipython",
    "version": 3
   },
   "file_extension": ".py",
   "mimetype": "text/x-python",
   "name": "python",
   "nbconvert_exporter": "python",
   "pygments_lexer": "ipython3",
   "version": "3.12.4"
  }
 },
 "nbformat": 4,
 "nbformat_minor": 2
}
